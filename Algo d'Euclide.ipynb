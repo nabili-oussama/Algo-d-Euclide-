{
 "cells": [
  {
   "cell_type": "markdown",
   "metadata": {},
   "source": [
    "1/Algorithme d'Euclide :"
   ]
  },
  {
   "cell_type": "code",
   "execution_count": 2,
   "metadata": {},
   "outputs": [
    {
     "name": "stdout",
     "output_type": "stream",
     "text": [
      "8 [1, 1]\n"
     ]
    }
   ],
   "source": [
    "def Algo_Euclide(a,b):\n",
    "    q=[]\n",
    "    if abs(a)>abs(b):\n",
    "        r1=a\n",
    "        r2=b\n",
    "    else :\n",
    "        r1=b\n",
    "        r2=a\n",
    "    while r2!=0 :\n",
    "        rq=r1\n",
    "        ri=r2\n",
    "        r2=(r1%r2)\n",
    "        if r2 != 0:\n",
    "            qi=rq//ri\n",
    "            q.append(qi)\n",
    "        r1=ri\n",
    "    return r1,q\n",
    "[a,b]=Algo_Euclide(40,72)\n",
    "print(a,b)"
   ]
  },
  {
   "cell_type": "markdown",
   "metadata": {},
   "source": [
    "2/Bézout"
   ]
  },
  {
   "cell_type": "code",
   "execution_count": 7,
   "metadata": {},
   "outputs": [
    {
     "name": "stdout",
     "output_type": "stream",
     "text": [
      "Bezout( 40 , 72 ) #PGCD: 8 (u = -1 ) , 40 + (v = 2 )  72 = 40\n"
     ]
    }
   ],
   "source": [
    "#question2\n",
    "def bezout(a, b):\n",
    "    if a>b:\n",
    "        r0 = a\n",
    "        r1 = b\n",
    "    else:\n",
    "        r0 = b\n",
    "        r1 = a\n",
    "    u0 = 1\n",
    "    v0 = 0\n",
    "    u1 = 0\n",
    "    v1 = 1 \n",
    "    while r1!=0:\n",
    "        q= r0//r1\n",
    "        r0,r1 = r1,r0%r1\n",
    "        u0 ,v0,u1,v1,= u1,v1,u0 -q*u1,v0 - q*v1\n",
    "    print(\"Bezout(\",a,\",\",b,\")\",\"#PGCD:\",r0,\"(u =\",u0,\")\"\",\",a,\"+\",\"(v =\",v0,\")\",\"\",b,\"=\",a)\n",
    "bezout(40,72)"
   ]
  }
 ],
 "metadata": {
  "kernelspec": {
   "display_name": "Python 3",
   "language": "python",
   "name": "python3"
  },
  "language_info": {
   "codemirror_mode": {
    "name": "ipython",
    "version": 3
   },
   "file_extension": ".py",
   "mimetype": "text/x-python",
   "name": "python",
   "nbconvert_exporter": "python",
   "pygments_lexer": "ipython3",
   "version": "3.8.3"
  }
 },
 "nbformat": 4,
 "nbformat_minor": 4
}
