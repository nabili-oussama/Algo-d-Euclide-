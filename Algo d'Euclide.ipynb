{
 "cells": [
  {
   "cell_type": "markdown",
   "metadata": {},
   "source": [
    "1/Algorithme d'Euclide :"
   ]
  },
  {
   "cell_type": "code",
   "execution_count": 2,
   "metadata": {},
   "outputs": [
    {
     "name": "stdout",
     "output_type": "stream",
     "text": [
      "8 [1, 1]\n"
     ]
    }
   ],
   "source": [
    "def Algo_Euclide(a,b):\n",
    "    q=[]\n",
    "    if abs(a)>abs(b):\n",
    "        r1=a\n",
    "        r2=b\n",
    "    else :\n",
    "        r1=b\n",
    "        r2=a\n",
    "    while r2!=0 :\n",
    "        rq=r1\n",
    "        ri=r2\n",
    "        r2=(r1%r2)\n",
    "        if r2 != 0:\n",
    "            qi=rq//ri\n",
    "            q.append(qi)\n",
    "        r1=ri\n",
    "    return r1,q\n",
    "[a,b]=Algo_Euclide(40,72)\n",
    "print(a,b)"
   ]
  },
  {
   "cell_type": "markdown",
   "metadata": {},
   "source": [
    "2/Bézout"
   ]
  },
  {
   "cell_type": "code",
   "execution_count": 3,
   "metadata": {},
   "outputs": [
    {
     "ename": "IndexError",
     "evalue": "list index out of range",
     "output_type": "error",
     "traceback": [
      "\u001b[1;31m---------------------------------------------------------------------------\u001b[0m",
      "\u001b[1;31mIndexError\u001b[0m                                Traceback (most recent call last)",
      "\u001b[1;32m<ipython-input-3-10d4ca6d02e4>\u001b[0m in \u001b[0;36m<module>\u001b[1;34m\u001b[0m\n\u001b[0;32m     11\u001b[0m         \u001b[0mi\u001b[0m\u001b[1;33m=\u001b[0m\u001b[0mi\u001b[0m\u001b[1;33m+\u001b[0m\u001b[1;36m1\u001b[0m\u001b[1;33m\u001b[0m\u001b[1;33m\u001b[0m\u001b[0m\n\u001b[0;32m     12\u001b[0m     \u001b[1;32mreturn\u001b[0m \u001b[0mU\u001b[0m\u001b[1;33m,\u001b[0m\u001b[0mV\u001b[0m\u001b[1;33m\u001b[0m\u001b[1;33m\u001b[0m\u001b[0m\n\u001b[1;32m---> 13\u001b[1;33m \u001b[1;33m[\u001b[0m\u001b[0mU\u001b[0m\u001b[1;33m,\u001b[0m\u001b[0mV\u001b[0m\u001b[1;33m]\u001b[0m\u001b[1;33m=\u001b[0m\u001b[0mBezout\u001b[0m\u001b[1;33m(\u001b[0m\u001b[1;36m40\u001b[0m\u001b[1;33m,\u001b[0m\u001b[1;36m72\u001b[0m\u001b[1;33m)\u001b[0m\u001b[1;33m\u001b[0m\u001b[1;33m\u001b[0m\u001b[0m\n\u001b[0m\u001b[0;32m     14\u001b[0m \u001b[0mprint\u001b[0m\u001b[1;33m(\u001b[0m\u001b[0mU\u001b[0m\u001b[1;33m,\u001b[0m\u001b[0mV\u001b[0m\u001b[1;33m)\u001b[0m\u001b[1;33m\u001b[0m\u001b[1;33m\u001b[0m\u001b[0m\n",
      "\u001b[1;32m<ipython-input-3-10d4ca6d02e4>\u001b[0m in \u001b[0;36mBezout\u001b[1;34m(a, b)\u001b[0m\n\u001b[0;32m      8\u001b[0m         \u001b[0mi2\u001b[0m\u001b[1;33m=\u001b[0m\u001b[0mV\u001b[0m\u001b[1;33m\u001b[0m\u001b[1;33m\u001b[0m\u001b[0m\n\u001b[0;32m      9\u001b[0m         \u001b[0mV\u001b[0m \u001b[1;33m=\u001b[0m \u001b[0mi1\u001b[0m\u001b[1;33m\u001b[0m\u001b[1;33m\u001b[0m\u001b[0m\n\u001b[1;32m---> 10\u001b[1;33m         \u001b[0mU\u001b[0m \u001b[1;33m=\u001b[0m \u001b[0mi2\u001b[0m \u001b[1;33m+\u001b[0m \u001b[0mV\u001b[0m\u001b[1;33m*\u001b[0m\u001b[0mq\u001b[0m\u001b[1;33m[\u001b[0m\u001b[0mi\u001b[0m\u001b[1;33m]\u001b[0m\u001b[1;33m\u001b[0m\u001b[1;33m\u001b[0m\u001b[0m\n\u001b[0m\u001b[0;32m     11\u001b[0m         \u001b[0mi\u001b[0m\u001b[1;33m=\u001b[0m\u001b[0mi\u001b[0m\u001b[1;33m+\u001b[0m\u001b[1;36m1\u001b[0m\u001b[1;33m\u001b[0m\u001b[1;33m\u001b[0m\u001b[0m\n\u001b[0;32m     12\u001b[0m     \u001b[1;32mreturn\u001b[0m \u001b[0mU\u001b[0m\u001b[1;33m,\u001b[0m\u001b[0mV\u001b[0m\u001b[1;33m\u001b[0m\u001b[1;33m\u001b[0m\u001b[0m\n",
      "\u001b[1;31mIndexError\u001b[0m: list index out of range"
     ]
    }
   ],
   "source": [
    "def Bezout(a,b):\n",
    "    [rn,q]=Algo_Euclide(a,b)\n",
    "    U=1\n",
    "    V=-q[0]\n",
    "    i=0\n",
    "    while (U*a+V*b)!= rn :\n",
    "        i1=U\n",
    "        i2=V\n",
    "        V = i1\n",
    "        U = i2 + V*q[i]\n",
    "        i=i+1\n",
    "    return U,V\n",
    "[U,V]=Bezout(40,72)\n",
    "print(U,V)"
   ]
  },
  {
   "cell_type": "code",
   "execution_count": 7,
   "metadata": {},
   "outputs": [
    {
     "name": "stdout",
     "output_type": "stream",
     "text": [
      "Bezout( 40 , 72 ) #PGCD: 8 (u = -1 ) , 40 + (v = 2 )  72 = 40\n"
     ]
    }
   ],
   "source": [
    "#question2\n",
    "def bezout(a, b):\n",
    "    if a>b:\n",
    "        r0 = a\n",
    "        r1 = b\n",
    "    else:\n",
    "        r0 = b\n",
    "        r1 = a\n",
    "    u0 = 1\n",
    "    v0 = 0\n",
    "    u1 = 0\n",
    "    v1 = 1 \n",
    "    while r1!=0:\n",
    "        q= r0//r1\n",
    "        r0,r1 = r1,r0%r1\n",
    "        u0 ,v0,u1,v1,= u1,v1,u0 -q*u1,v0 - q*v1\n",
    "    print(\"Bezout(\",a,\",\",b,\")\",\"#PGCD:\",r0,\"(u =\",u0,\")\"\",\",a,\"+\",\"(v =\",v0,\")\",\"\",b,\"=\",a)\n",
    "bezout(40,72)"
   ]
  }
 ],
 "metadata": {
  "kernelspec": {
   "display_name": "Python 3",
   "language": "python",
   "name": "python3"
  },
  "language_info": {
   "codemirror_mode": {
    "name": "ipython",
    "version": 3
   },
   "file_extension": ".py",
   "mimetype": "text/x-python",
   "name": "python",
   "nbconvert_exporter": "python",
   "pygments_lexer": "ipython3",
   "version": "3.8.3"
  }
 },
 "nbformat": 4,
 "nbformat_minor": 4
}
